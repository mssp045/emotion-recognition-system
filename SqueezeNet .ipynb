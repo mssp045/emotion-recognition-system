{
  "nbformat": 4,
  "nbformat_minor": 0,
  "metadata": {
    "accelerator": "GPU",
    "colab": {
      "name": "SqueezeNet.ipynb",
      "provenance": [],
      "collapsed_sections": []
    },
    "kernelspec": {
      "display_name": "Python 3",
      "name": "python3"
    }
  },
  "cells": [
    {
      "cell_type": "code",
      "metadata": {
        "id": "tN0Tur-5Bo9s",
        "colab": {
          "base_uri": "https://localhost:8080/"
        },
        "outputId": "ee4c1c61-5b4e-4adb-b574-d1079e7014dd"
      },
      "source": [
        "from google.colab import drive\n",
        "drive.mount(\"/content/drive\", force_remount=True)"
      ],
      "execution_count": null,
      "outputs": [
        {
          "output_type": "stream",
          "text": [
            "Mounted at /content/drive\n"
          ],
          "name": "stdout"
        }
      ]
    },
    {
      "cell_type": "markdown",
      "metadata": {
        "id": "Ar7m2ItV6_PR"
      },
      "source": [
        "**IMPORTING NECESSARY MODULES**\n",
        "\n",
        "---\n",
        "\n"
      ]
    },
    {
      "cell_type": "code",
      "metadata": {
        "id": "gA675yx3Tq69"
      },
      "source": [
        "import h5py\n",
        "from keras.models import Model\n",
        "from keras.layers import Input, Activation, Concatenate\n",
        "from keras.layers import Flatten, Dropout\n",
        "from keras.layers import Convolution2D, MaxPooling2D\n",
        "from keras.layers import GlobalAveragePooling2D\n",
        "import numpy as np\n",
        "import matplotlib.pyplot as plt\n",
        "import theano\n",
        "import cv2\n",
        "import pdb\n",
        "import os\n",
        "import sys\n",
        "import keras\n",
        "import tensorflow as tf\n",
        "from keras.preprocessing.image import ImageDataGenerator\n",
        "from keras.utils import np_utils\n",
        "from keras.layers.normalization import BatchNormalization\n",
        "from keras.optimizers import SGD, Adam"
      ],
      "execution_count": null,
      "outputs": []
    },
    {
      "cell_type": "markdown",
      "metadata": {
        "id": "DlicT9qI7gHZ"
      },
      "source": [
        "**SQUEEZENET MODEL**\n",
        "\n",
        "---\n",
        "\n"
      ]
    },
    {
      "cell_type": "code",
      "metadata": {
        "id": "Hl3Bk93G7ega"
      },
      "source": [
        "def SqueezeNet(nb_classes, inputs=(1, 48, 48)):\n",
        "   \n",
        "    input_img = Input(shape=inputs)\n",
        "\n",
        "    conv1 = Convolution2D(96, (7, 7), activation='relu', kernel_initializer='glorot_uniform', strides=(2, 2), padding='same', name='conv1', data_format=\"channels_first\")(input_img)\n",
        "    maxpool1 = MaxPooling2D(pool_size=(3, 3), strides=(2, 2), name='maxpool1', data_format=\"channels_first\")(conv1)\n",
        "\n",
        "    fire2_squeeze = Convolution2D(16, (1, 1), activation='relu', kernel_initializer='glorot_uniform', padding='same', name='fire2_squeeze', data_format=\"channels_first\")(maxpool1)\n",
        "    fire2_expand1 = Convolution2D(64, (1, 1), activation='relu', kernel_initializer='glorot_uniform', padding='same', name='fire2_expand1', data_format=\"channels_first\")(fire2_squeeze)\n",
        "    fire2_expand2 = Convolution2D(64, (3, 3), activation='relu', kernel_initializer='glorot_uniform', padding='same', name='fire2_expand2', data_format=\"channels_first\")(fire2_squeeze)\n",
        "    merge2 = Concatenate(axis=1)([fire2_expand1, fire2_expand2])\n",
        "\n",
        "    fire3_squeeze = Convolution2D(16, (1, 1), activation='relu', kernel_initializer='glorot_uniform', padding='same', name='fire3_squeeze', data_format=\"channels_first\")(merge2)\n",
        "    fire3_expand1 = Convolution2D(64, (1, 1), activation='relu', kernel_initializer='glorot_uniform', padding='same', name='fire3_expand1', data_format=\"channels_first\")(fire3_squeeze)\n",
        "    fire3_expand2 = Convolution2D(64, (3, 3), activation='relu', kernel_initializer='glorot_uniform', padding='same', name='fire3_expand2', data_format=\"channels_first\")(fire3_squeeze)\n",
        "    merge3 = Concatenate(axis=1)([fire3_expand1, fire3_expand2])\n",
        "\n",
        "    fire4_squeeze = Convolution2D(32, (1, 1), activation='relu', kernel_initializer='glorot_uniform', padding='same', name='fire4_squeeze', data_format=\"channels_first\")(merge3)\n",
        "    fire4_expand1 = Convolution2D(128, (1, 1), activation='relu', kernel_initializer='glorot_uniform', padding='same', name='fire4_expand1', data_format=\"channels_first\")(fire4_squeeze)\n",
        "    fire4_expand2 = Convolution2D(128, (3, 3), activation='relu', kernel_initializer='glorot_uniform', padding='same', name='fire4_expand2', data_format=\"channels_first\")(fire4_squeeze)\n",
        "    merge4 = Concatenate(axis=1)([fire4_expand1, fire4_expand2])\n",
        "    maxpool4 = MaxPooling2D(pool_size=(3, 3), strides=(2, 2), name='maxpool4', data_format=\"channels_first\")(merge4)\n",
        "\n",
        "    fire5_squeeze = Convolution2D(32, (1, 1), activation='relu', kernel_initializer='glorot_uniform', padding='same', name='fire5_squeeze', data_format=\"channels_first\")(maxpool4)\n",
        "    fire5_expand1 = Convolution2D(128, (1, 1), activation='relu', kernel_initializer='glorot_uniform', padding='same', name='fire5_expand1', data_format=\"channels_first\")(fire5_squeeze)\n",
        "    fire5_expand2 = Convolution2D(128, (3, 3), activation='relu', kernel_initializer='glorot_uniform', padding='same', name='fire5_expand2', data_format=\"channels_first\")(fire5_squeeze)\n",
        "    merge5 = Concatenate(axis=1)([fire5_expand1, fire5_expand2])\n",
        "\n",
        "    fire6_squeeze = Convolution2D(48, (1, 1), activation='relu', kernel_initializer='glorot_uniform', padding='same', name='fire6_squeeze', data_format=\"channels_first\")(merge5)\n",
        "    fire6_expand1 = Convolution2D(192, (1, 1), activation='relu', kernel_initializer='glorot_uniform', padding='same', name='fire6_expand1', data_format=\"channels_first\")(fire6_squeeze)\n",
        "    fire6_expand2 = Convolution2D(192, (3, 3), activation='relu', kernel_initializer='glorot_uniform', padding='same', name='fire6_expand2', data_format=\"channels_first\")(fire6_squeeze)\n",
        "    merge6 = Concatenate(axis=1)([fire6_expand1, fire6_expand2])\n",
        "\n",
        "    fire7_squeeze = Convolution2D(48, (1, 1), activation='relu', kernel_initializer='glorot_uniform', padding='same', name='fire7_squeeze', data_format=\"channels_first\")(merge6)\n",
        "    fire7_expand1 = Convolution2D(192, (1, 1), activation='relu', kernel_initializer='glorot_uniform', padding='same', name='fire7_expand1', data_format=\"channels_first\")(fire7_squeeze)\n",
        "    fire7_expand2 = Convolution2D(192, (3, 3), activation='relu', kernel_initializer='glorot_uniform', padding='same', name='fire7_expand2', data_format=\"channels_first\")(fire7_squeeze)\n",
        "    merge7 = Concatenate(axis=1)([fire7_expand1, fire7_expand2])\n",
        "\n",
        "    fire8_squeeze = Convolution2D(64, (1, 1), activation='relu', kernel_initializer='glorot_uniform', padding='same', name='fire8_squeeze', data_format=\"channels_first\")(merge7)\n",
        "    fire8_expand1 = Convolution2D(256, (1, 1), activation='relu', kernel_initializer='glorot_uniform', padding='same', name='fire8_expand1', data_format=\"channels_first\")(fire8_squeeze)\n",
        "    fire8_expand2 = Convolution2D(256, (3, 3), activation='relu', kernel_initializer='glorot_uniform', padding='same', name='fire8_expand2', data_format=\"channels_first\")(fire8_squeeze)\n",
        "    merge8 = Concatenate(axis=1)([fire8_expand1, fire8_expand2])\n",
        "    maxpool8 = MaxPooling2D(pool_size=(3, 3), strides=(2, 2), name='maxpool8', data_format=\"channels_first\")(merge8)\n",
        "\n",
        "    fire9_squeeze = Convolution2D(64, (1, 1), activation='relu', kernel_initializer='glorot_uniform', padding='same', name='fire9_squeeze', data_format=\"channels_first\")(maxpool8)\n",
        "    fire9_expand1 = Convolution2D(256, (1, 1), activation='relu', kernel_initializer='glorot_uniform', padding='same', name='fire9_expand1', data_format=\"channels_first\")(fire9_squeeze)\n",
        "    fire9_expand2 = Convolution2D(256, (3, 3), activation='relu', kernel_initializer='glorot_uniform', padding='same', name='fire9_expand2', data_format=\"channels_first\")(fire9_squeeze)\n",
        "    merge9 = Concatenate(axis=1)([fire9_expand1, fire9_expand2])\n",
        "\n",
        "    fire9_dropout = Dropout(0.5, name='fire9_dropout')(merge9)\n",
        "    conv10 = Convolution2D(nb_classes, (1, 1), activation='relu', kernel_initializer='glorot_uniform', padding='valid', name='conv10', data_format=\"channels_first\")(fire9_dropout)\n",
        "\n",
        "    global_avgpool10 = GlobalAveragePooling2D(data_format='channels_first')(conv10)\n",
        "    softmax = Activation(\"softmax\", name='softmax')(global_avgpool10)\n",
        "    \n",
        "    return Model(inputs=input_img, outputs=softmax)"
      ],
      "execution_count": null,
      "outputs": []
    },
    {
      "cell_type": "code",
      "metadata": {
        "id": "K5YadJvKko-S"
      },
      "source": [
        "nb_classes= 7 #Various Types of Emotions\n",
        "model = SqueezeNet(nb_classes)"
      ],
      "execution_count": null,
      "outputs": []
    },
    {
      "cell_type": "markdown",
      "metadata": {
        "id": "U9_AxFpZ72VY"
      },
      "source": [
        "**READING DATA FROM CSV FILE AND SPLITTING TRAINING AND TESTING DATA**\n",
        "\n",
        "1.   List item\n",
        "\n",
        "1.   List item\n",
        "2.   List item\n",
        "\n",
        "\n",
        "2.   List item\n",
        "\n",
        "\n",
        "\n",
        "---\n",
        "\n"
      ]
    },
    {
      "cell_type": "code",
      "metadata": {
        "id": "Tpv0ch4Xk9bT"
      },
      "source": [
        "with open(\"/content/drive/MyDrive/Innovation Practices/fer_mod.csv\") as f:\n",
        "  content = f.readlines()\n",
        "\n",
        "lines = np.array(content)\n",
        "num_of_instances = lines.size\n",
        "\n",
        "y_train = []\n",
        "y_test = []\n",
        "\n",
        "X_train = []\n",
        "X_test = []\n",
        "\n",
        "for i in range(1,num_of_instances):\n",
        "  emotion, img, usage = lines[i].split(\",\")\n",
        "  val = img.split(\" \")\n",
        "  val = [int(i) for i in val if i!='']\n",
        "  pix = np.array(val, 'float32')\n",
        "  emotion = keras.utils.to_categorical(emotion, 7)\n",
        "  if 'Training' in usage:\n",
        "    X_train.append(pix)\n",
        "    y_train.append(emotion)\n",
        "  elif 'PublicTest' in usage:\n",
        "    X_test.append(pix)\n",
        "    y_test.append(emotion)"
      ],
      "execution_count": null,
      "outputs": []
    },
    {
      "cell_type": "code",
      "metadata": {
        "id": "BEJ7XrX1qrDN"
      },
      "source": [
        "X_train = np.array(X_train, 'float32')\n",
        "y_train = np.array(y_train, 'float32')\n",
        "X_test = np.array(X_test, 'float32')\n",
        "y_test = np.array(y_test, 'float32')"
      ],
      "execution_count": null,
      "outputs": []
    },
    {
      "cell_type": "code",
      "metadata": {
        "id": "6OMoyXRwrRXO"
      },
      "source": [
        "X_train/=255\n",
        "X_test/=255\n",
        "\n",
        "X_train = X_train.reshape(X_train.shape[0], 1, 48, 48)\n",
        "X_train = X_train.astype('float32')\n",
        "X_test = X_test.reshape(X_test.shape[0], 1, 48, 48)\n",
        "X_test = X_test.astype('float32')"
      ],
      "execution_count": null,
      "outputs": []
    },
    {
      "cell_type": "code",
      "metadata": {
        "colab": {
          "base_uri": "https://localhost:8080/"
        },
        "id": "opz4QoJcrg29",
        "outputId": "13162399-6887-4032-cc96-8291580450f7"
      },
      "source": [
        "print(X_train.shape[0], 'train samples')\n",
        "print(X_test.shape[0], 'test samples')\n",
        "print(X_train.shape)\n",
        "print(y_train.shape)"
      ],
      "execution_count": null,
      "outputs": [
        {
          "output_type": "stream",
          "text": [
            "40166 train samples\n",
            "9846 test samples\n",
            "(40166, 1, 48, 48)\n",
            "(40166, 7)\n"
          ],
          "name": "stdout"
        }
      ]
    },
    {
      "cell_type": "markdown",
      "metadata": {
        "id": "aB3bse7i8S1f"
      },
      "source": [
        "**DATA AUGMENTATION**\n",
        "\n",
        "---\n",
        "\n"
      ]
    },
    {
      "cell_type": "code",
      "metadata": {
        "colab": {
          "base_uri": "https://localhost:8080/"
        },
        "id": "fqooIxmW3uoY",
        "outputId": "7013b035-fbab-4816-bf2e-b8a4fda463c6"
      },
      "source": [
        "batch_size = 256\n",
        "data_gen = ImageDataGenerator(zoom_range=0.2, width_shift_range=0.1, height_shift_range = 0.1, horizontal_flip=True)\n",
        "data_flow = data_gen.flow(X_train, y_train, batch_size=batch_size)"
      ],
      "execution_count": null,
      "outputs": [
        {
          "output_type": "stream",
          "text": [
            "/usr/local/lib/python3.7/dist-packages/keras_preprocessing/image/numpy_array_iterator.py:136: UserWarning: NumpyArrayIterator is set to use the data format convention \"channels_last\" (channels on axis 3), i.e. expected either 1, 3, or 4 channels on axis 3. However, it was passed an array with shape (40166, 1, 48, 48) (48 channels).\n",
            "  str(self.x.shape[channels_axis]) + ' channels).')\n"
          ],
          "name": "stderr"
        }
      ]
    },
    {
      "cell_type": "markdown",
      "metadata": {
        "id": "1T9XvW__9grn"
      },
      "source": [
        "**COMPILING AND TRAINING THE MODEL**\n",
        "\n",
        "---\n",
        "\n"
      ]
    },
    {
      "cell_type": "code",
      "metadata": {
        "id": "HLi6SYdUslIx"
      },
      "source": [
        "model.compile(loss='categorical_crossentropy', optimizer=Adam(learning_rate=2e-4), metrics=['acc',tf.keras.metrics.Precision(),\n",
        "                                                                                            tf.keras.metrics.SpecificityAtSensitivity(0.5),\n",
        "                                                                                            tf.keras.metrics.SensitivityAtSpecificity(0.5)])"
      ],
      "execution_count": null,
      "outputs": []
    },
    {
      "cell_type": "code",
      "metadata": {
        "colab": {
          "base_uri": "https://localhost:8080/"
        },
        "id": "kX-S8ccwPWhA",
        "outputId": "a8794d9d-40c0-4fd2-f16a-bc40f38c8c5e"
      },
      "source": [
        "model.summary()"
      ],
      "execution_count": null,
      "outputs": [
        {
          "output_type": "stream",
          "text": [
            "Model: \"model\"\n",
            "__________________________________________________________________________________________________\n",
            "Layer (type)                    Output Shape         Param #     Connected to                     \n",
            "==================================================================================================\n",
            "input_1 (InputLayer)            [(None, 1, 48, 48)]  0                                            \n",
            "__________________________________________________________________________________________________\n",
            "conv1 (Conv2D)                  (None, 96, 24, 24)   4800        input_1[0][0]                    \n",
            "__________________________________________________________________________________________________\n",
            "maxpool1 (MaxPooling2D)         (None, 96, 11, 11)   0           conv1[0][0]                      \n",
            "__________________________________________________________________________________________________\n",
            "fire2_squeeze (Conv2D)          (None, 16, 11, 11)   1552        maxpool1[0][0]                   \n",
            "__________________________________________________________________________________________________\n",
            "fire2_expand1 (Conv2D)          (None, 64, 11, 11)   1088        fire2_squeeze[0][0]              \n",
            "__________________________________________________________________________________________________\n",
            "fire2_expand2 (Conv2D)          (None, 64, 11, 11)   9280        fire2_squeeze[0][0]              \n",
            "__________________________________________________________________________________________________\n",
            "concatenate (Concatenate)       (None, 128, 11, 11)  0           fire2_expand1[0][0]              \n",
            "                                                                 fire2_expand2[0][0]              \n",
            "__________________________________________________________________________________________________\n",
            "fire3_squeeze (Conv2D)          (None, 16, 11, 11)   2064        concatenate[0][0]                \n",
            "__________________________________________________________________________________________________\n",
            "fire3_expand1 (Conv2D)          (None, 64, 11, 11)   1088        fire3_squeeze[0][0]              \n",
            "__________________________________________________________________________________________________\n",
            "fire3_expand2 (Conv2D)          (None, 64, 11, 11)   9280        fire3_squeeze[0][0]              \n",
            "__________________________________________________________________________________________________\n",
            "concatenate_1 (Concatenate)     (None, 128, 11, 11)  0           fire3_expand1[0][0]              \n",
            "                                                                 fire3_expand2[0][0]              \n",
            "__________________________________________________________________________________________________\n",
            "fire4_squeeze (Conv2D)          (None, 32, 11, 11)   4128        concatenate_1[0][0]              \n",
            "__________________________________________________________________________________________________\n",
            "fire4_expand1 (Conv2D)          (None, 128, 11, 11)  4224        fire4_squeeze[0][0]              \n",
            "__________________________________________________________________________________________________\n",
            "fire4_expand2 (Conv2D)          (None, 128, 11, 11)  36992       fire4_squeeze[0][0]              \n",
            "__________________________________________________________________________________________________\n",
            "concatenate_2 (Concatenate)     (None, 256, 11, 11)  0           fire4_expand1[0][0]              \n",
            "                                                                 fire4_expand2[0][0]              \n",
            "__________________________________________________________________________________________________\n",
            "maxpool4 (MaxPooling2D)         (None, 256, 5, 5)    0           concatenate_2[0][0]              \n",
            "__________________________________________________________________________________________________\n",
            "fire5_squeeze (Conv2D)          (None, 32, 5, 5)     8224        maxpool4[0][0]                   \n",
            "__________________________________________________________________________________________________\n",
            "fire5_expand1 (Conv2D)          (None, 128, 5, 5)    4224        fire5_squeeze[0][0]              \n",
            "__________________________________________________________________________________________________\n",
            "fire5_expand2 (Conv2D)          (None, 128, 5, 5)    36992       fire5_squeeze[0][0]              \n",
            "__________________________________________________________________________________________________\n",
            "concatenate_3 (Concatenate)     (None, 256, 5, 5)    0           fire5_expand1[0][0]              \n",
            "                                                                 fire5_expand2[0][0]              \n",
            "__________________________________________________________________________________________________\n",
            "fire6_squeeze (Conv2D)          (None, 48, 5, 5)     12336       concatenate_3[0][0]              \n",
            "__________________________________________________________________________________________________\n",
            "fire6_expand1 (Conv2D)          (None, 192, 5, 5)    9408        fire6_squeeze[0][0]              \n",
            "__________________________________________________________________________________________________\n",
            "fire6_expand2 (Conv2D)          (None, 192, 5, 5)    83136       fire6_squeeze[0][0]              \n",
            "__________________________________________________________________________________________________\n",
            "concatenate_4 (Concatenate)     (None, 384, 5, 5)    0           fire6_expand1[0][0]              \n",
            "                                                                 fire6_expand2[0][0]              \n",
            "__________________________________________________________________________________________________\n",
            "fire7_squeeze (Conv2D)          (None, 48, 5, 5)     18480       concatenate_4[0][0]              \n",
            "__________________________________________________________________________________________________\n",
            "fire7_expand1 (Conv2D)          (None, 192, 5, 5)    9408        fire7_squeeze[0][0]              \n",
            "__________________________________________________________________________________________________\n",
            "fire7_expand2 (Conv2D)          (None, 192, 5, 5)    83136       fire7_squeeze[0][0]              \n",
            "__________________________________________________________________________________________________\n",
            "concatenate_5 (Concatenate)     (None, 384, 5, 5)    0           fire7_expand1[0][0]              \n",
            "                                                                 fire7_expand2[0][0]              \n",
            "__________________________________________________________________________________________________\n",
            "fire8_squeeze (Conv2D)          (None, 64, 5, 5)     24640       concatenate_5[0][0]              \n",
            "__________________________________________________________________________________________________\n",
            "fire8_expand1 (Conv2D)          (None, 256, 5, 5)    16640       fire8_squeeze[0][0]              \n",
            "__________________________________________________________________________________________________\n",
            "fire8_expand2 (Conv2D)          (None, 256, 5, 5)    147712      fire8_squeeze[0][0]              \n",
            "__________________________________________________________________________________________________\n",
            "concatenate_6 (Concatenate)     (None, 512, 5, 5)    0           fire8_expand1[0][0]              \n",
            "                                                                 fire8_expand2[0][0]              \n",
            "__________________________________________________________________________________________________\n",
            "maxpool8 (MaxPooling2D)         (None, 512, 2, 2)    0           concatenate_6[0][0]              \n",
            "__________________________________________________________________________________________________\n",
            "fire9_squeeze (Conv2D)          (None, 64, 2, 2)     32832       maxpool8[0][0]                   \n",
            "__________________________________________________________________________________________________\n",
            "fire9_expand1 (Conv2D)          (None, 256, 2, 2)    16640       fire9_squeeze[0][0]              \n",
            "__________________________________________________________________________________________________\n",
            "fire9_expand2 (Conv2D)          (None, 256, 2, 2)    147712      fire9_squeeze[0][0]              \n",
            "__________________________________________________________________________________________________\n",
            "concatenate_7 (Concatenate)     (None, 512, 2, 2)    0           fire9_expand1[0][0]              \n",
            "                                                                 fire9_expand2[0][0]              \n",
            "__________________________________________________________________________________________________\n",
            "fire9_dropout (Dropout)         (None, 512, 2, 2)    0           concatenate_7[0][0]              \n",
            "__________________________________________________________________________________________________\n",
            "conv10 (Conv2D)                 (None, 7, 2, 2)      3591        fire9_dropout[0][0]              \n",
            "__________________________________________________________________________________________________\n",
            "global_average_pooling2d (Globa (None, 7)            0           conv10[0][0]                     \n",
            "__________________________________________________________________________________________________\n",
            "softmax (Activation)            (None, 7)            0           global_average_pooling2d[0][0]   \n",
            "==================================================================================================\n",
            "Total params: 729,607\n",
            "Trainable params: 729,607\n",
            "Non-trainable params: 0\n",
            "__________________________________________________________________________________________________\n"
          ],
          "name": "stdout"
        }
      ]
    },
    {
      "cell_type": "code",
      "metadata": {
        "id": "3g10c7Fxaehe"
      },
      "source": [
        "def lrdecay(epoch):\n",
        "    lr = 2e-4\n",
        "    if epoch > 70:\n",
        "        lr *= 1e-3\n",
        "    elif epoch > 60:\n",
        "        lr *= 1e-2\n",
        "    elif epoch > 55:\n",
        "        lr *= 1e-1\n",
        "    print('lr: ', lr)\n",
        "    return lr\n",
        "lrdecay = tf.keras.callbacks.LearningRateScheduler(lrdecay) # learning rate decay  \n",
        "\n",
        "def earlystop(mode):\n",
        "  if mode=='acc':\n",
        "    estop = tf.keras.callbacks.EarlyStopping(monitor='val_acc', patience=15, mode='max')\n",
        "  elif mode=='loss':\n",
        "    estop = tf.keras.callbacks.EarlyStopping(monitor='val_loss', patience=15, mode='min')\n",
        "  return estop"
      ],
      "execution_count": null,
      "outputs": []
    },
    {
      "cell_type": "code",
      "metadata": {
        "colab": {
          "base_uri": "https://localhost:8080/"
        },
        "id": "pu3E_dHM3llL",
        "outputId": "7e0d3c7d-8493-4a1c-9722-11ebcf521eff"
      },
      "source": [
        "history = model.fit(data_flow, epochs=100, steps_per_epoch=X_train.shape[0]/batch_size, callbacks=[lrdecay])"
      ],
      "execution_count": null,
      "outputs": [
        {
          "output_type": "stream",
          "text": [
            "Epoch 1/70\n",
            "lr:  0.0002\n",
            "156/156 [==============================] - 51s 325ms/step - loss: 1.4816 - acc: 0.4329 - precision_2: 0.6721 - specificity_at_sensitivity: 0.8792 - sensitivity_at_specificity: 0.8852\n",
            "Epoch 2/70\n",
            "lr:  0.0002\n",
            "156/156 [==============================] - 51s 325ms/step - loss: 1.4134 - acc: 0.4717 - precision_2: 0.6896 - specificity_at_sensitivity: 0.9015 - sensitivity_at_specificity: 0.9049\n",
            "Epoch 3/70\n",
            "lr:  0.0002\n",
            "156/156 [==============================] - 51s 327ms/step - loss: 1.3572 - acc: 0.4969 - precision_2: 0.7066 - specificity_at_sensitivity: 0.9176 - sensitivity_at_specificity: 0.9184\n",
            "Epoch 4/70\n",
            "lr:  0.0002\n",
            "156/156 [==============================] - 51s 326ms/step - loss: 1.3116 - acc: 0.5185 - precision_2: 0.7216 - specificity_at_sensitivity: 0.9307 - sensitivity_at_specificity: 0.9294\n",
            "Epoch 5/70\n",
            "lr:  0.0002\n",
            "156/156 [==============================] - 51s 326ms/step - loss: 1.2719 - acc: 0.5321 - precision_2: 0.7283 - specificity_at_sensitivity: 0.9376 - sensitivity_at_specificity: 0.9383\n",
            "Epoch 6/70\n",
            "lr:  0.0002\n",
            "156/156 [==============================] - 51s 326ms/step - loss: 1.2275 - acc: 0.5503 - precision_2: 0.7429 - specificity_at_sensitivity: 0.9456 - sensitivity_at_specificity: 0.9438\n",
            "Epoch 7/70\n",
            "lr:  0.0002\n",
            "156/156 [==============================] - 51s 325ms/step - loss: 1.1931 - acc: 0.5648 - precision_2: 0.7474 - specificity_at_sensitivity: 0.9513 - sensitivity_at_specificity: 0.9519\n",
            "Epoch 8/70\n",
            "lr:  0.0002\n",
            "156/156 [==============================] - 51s 326ms/step - loss: 1.1605 - acc: 0.5752 - precision_2: 0.7528 - specificity_at_sensitivity: 0.9570 - sensitivity_at_specificity: 0.9590\n",
            "Epoch 9/70\n",
            "lr:  0.0002\n",
            "156/156 [==============================] - 51s 326ms/step - loss: 1.1360 - acc: 0.5835 - precision_2: 0.7573 - specificity_at_sensitivity: 0.9603 - sensitivity_at_specificity: 0.9609\n",
            "Epoch 10/70\n",
            "lr:  0.0002\n",
            "156/156 [==============================] - 51s 324ms/step - loss: 1.1061 - acc: 0.5985 - precision_2: 0.7579 - specificity_at_sensitivity: 0.9641 - sensitivity_at_specificity: 0.9646\n",
            "Epoch 11/70\n",
            "lr:  0.0002\n",
            "156/156 [==============================] - 51s 327ms/step - loss: 1.0911 - acc: 0.6013 - precision_2: 0.7624 - specificity_at_sensitivity: 0.9669 - sensitivity_at_specificity: 0.9658\n",
            "Epoch 12/70\n",
            "lr:  0.0002\n",
            "156/156 [==============================] - 51s 326ms/step - loss: 1.0719 - acc: 0.6082 - precision_2: 0.7659 - specificity_at_sensitivity: 0.9683 - sensitivity_at_specificity: 0.9716\n",
            "Epoch 13/70\n",
            "lr:  0.0002\n",
            "156/156 [==============================] - 51s 325ms/step - loss: 1.0616 - acc: 0.6111 - precision_2: 0.7633 - specificity_at_sensitivity: 0.9686 - sensitivity_at_specificity: 0.9731\n",
            "Epoch 14/70\n",
            "lr:  0.0002\n",
            "156/156 [==============================] - 51s 327ms/step - loss: 1.0513 - acc: 0.6154 - precision_2: 0.7646 - specificity_at_sensitivity: 0.9702 - sensitivity_at_specificity: 0.9726\n",
            "Epoch 15/70\n",
            "lr:  0.0002\n",
            "156/156 [==============================] - 51s 326ms/step - loss: 1.0425 - acc: 0.6203 - precision_2: 0.7654 - specificity_at_sensitivity: 0.9711 - sensitivity_at_specificity: 0.9713\n",
            "Epoch 16/70\n",
            "lr:  0.0002\n",
            "156/156 [==============================] - 51s 325ms/step - loss: 1.0366 - acc: 0.6200 - precision_2: 0.7690 - specificity_at_sensitivity: 0.9717 - sensitivity_at_specificity: 0.9734\n",
            "Epoch 17/70\n",
            "lr:  0.0002\n",
            "156/156 [==============================] - 51s 327ms/step - loss: 1.0274 - acc: 0.6254 - precision_2: 0.7678 - specificity_at_sensitivity: 0.9725 - sensitivity_at_specificity: 0.9723\n",
            "Epoch 18/70\n",
            "lr:  0.0002\n",
            "156/156 [==============================] - 51s 326ms/step - loss: 1.0139 - acc: 0.6286 - precision_2: 0.7695 - specificity_at_sensitivity: 0.9734 - sensitivity_at_specificity: 0.9782\n",
            "Epoch 19/70\n",
            "lr:  0.0002\n",
            "156/156 [==============================] - 51s 326ms/step - loss: 1.0150 - acc: 0.6312 - precision_2: 0.7696 - specificity_at_sensitivity: 0.9734 - sensitivity_at_specificity: 0.9786\n",
            "Epoch 20/70\n",
            "lr:  0.0002\n",
            "156/156 [==============================] - 51s 327ms/step - loss: 1.0082 - acc: 0.6320 - precision_2: 0.7673 - specificity_at_sensitivity: 0.9734 - sensitivity_at_specificity: 0.9789\n",
            "Epoch 21/70\n",
            "lr:  0.0002\n",
            "156/156 [==============================] - 51s 326ms/step - loss: 1.0020 - acc: 0.6333 - precision_2: 0.7717 - specificity_at_sensitivity: 0.9746 - sensitivity_at_specificity: 0.9785\n",
            "Epoch 22/70\n",
            "lr:  0.0002\n",
            "156/156 [==============================] - 51s 326ms/step - loss: 0.9946 - acc: 0.6382 - precision_2: 0.7751 - specificity_at_sensitivity: 0.9754 - sensitivity_at_specificity: 0.9787\n",
            "Epoch 23/70\n",
            "lr:  0.0002\n",
            "156/156 [==============================] - 51s 327ms/step - loss: 0.9876 - acc: 0.6393 - precision_2: 0.7742 - specificity_at_sensitivity: 0.9758 - sensitivity_at_specificity: 0.9788\n",
            "Epoch 24/70\n",
            "lr:  0.0002\n",
            "156/156 [==============================] - 51s 327ms/step - loss: 0.9889 - acc: 0.6384 - precision_2: 0.7706 - specificity_at_sensitivity: 0.9748 - sensitivity_at_specificity: 0.9788\n",
            "Epoch 25/70\n",
            "lr:  0.0002\n",
            "156/156 [==============================] - 52s 332ms/step - loss: 0.9819 - acc: 0.6422 - precision_2: 0.7759 - specificity_at_sensitivity: 0.9764 - sensitivity_at_specificity: 0.9788\n",
            "Epoch 26/70\n",
            "lr:  0.0002\n",
            "156/156 [==============================] - 52s 333ms/step - loss: 0.9715 - acc: 0.6449 - precision_2: 0.7732 - specificity_at_sensitivity: 0.9770 - sensitivity_at_specificity: 0.9798\n",
            "Epoch 27/70\n",
            "lr:  0.0002\n",
            "156/156 [==============================] - 52s 329ms/step - loss: 0.9754 - acc: 0.6436 - precision_2: 0.7750 - specificity_at_sensitivity: 0.9768 - sensitivity_at_specificity: 0.9787\n",
            "Epoch 28/70\n",
            "lr:  0.0002\n",
            "156/156 [==============================] - 52s 329ms/step - loss: 0.9665 - acc: 0.6465 - precision_2: 0.7759 - specificity_at_sensitivity: 0.9776 - sensitivity_at_specificity: 0.9790\n",
            "Epoch 29/70\n",
            "lr:  0.0002\n",
            "156/156 [==============================] - 51s 327ms/step - loss: 0.9668 - acc: 0.6465 - precision_2: 0.7723 - specificity_at_sensitivity: 0.9773 - sensitivity_at_specificity: 0.9796\n",
            "Epoch 30/70\n",
            "lr:  0.0002\n",
            "156/156 [==============================] - 52s 328ms/step - loss: 0.9630 - acc: 0.6492 - precision_2: 0.7757 - specificity_at_sensitivity: 0.9776 - sensitivity_at_specificity: 0.9785\n",
            "Epoch 31/70\n",
            "lr:  0.0002\n",
            "156/156 [==============================] - 51s 328ms/step - loss: 0.9590 - acc: 0.6500 - precision_2: 0.7774 - specificity_at_sensitivity: 0.9787 - sensitivity_at_specificity: 0.9796\n",
            "Epoch 32/70\n",
            "lr:  0.0002\n",
            "156/156 [==============================] - 52s 329ms/step - loss: 0.9527 - acc: 0.6533 - precision_2: 0.7753 - specificity_at_sensitivity: 0.9785 - sensitivity_at_specificity: 0.9841\n",
            "Epoch 33/70\n",
            "lr:  0.0002\n",
            "156/156 [==============================] - 51s 327ms/step - loss: 0.9485 - acc: 0.6545 - precision_2: 0.7785 - specificity_at_sensitivity: 0.9794 - sensitivity_at_specificity: 0.9838\n",
            "Epoch 34/70\n",
            "lr:  0.0002\n",
            "156/156 [==============================] - 52s 329ms/step - loss: 0.9449 - acc: 0.6534 - precision_2: 0.7775 - specificity_at_sensitivity: 0.9790 - sensitivity_at_specificity: 0.9839\n",
            "Epoch 35/70\n",
            "lr:  0.0002\n",
            "156/156 [==============================] - 52s 329ms/step - loss: 0.9464 - acc: 0.6548 - precision_2: 0.7773 - specificity_at_sensitivity: 0.9790 - sensitivity_at_specificity: 0.9836\n",
            "Epoch 36/70\n",
            "lr:  0.0002\n",
            "156/156 [==============================] - 52s 328ms/step - loss: 0.9407 - acc: 0.6554 - precision_2: 0.7788 - specificity_at_sensitivity: 0.9791 - sensitivity_at_specificity: 0.9834\n",
            "Epoch 37/70\n",
            "lr:  0.0002\n",
            "156/156 [==============================] - 52s 328ms/step - loss: 0.9321 - acc: 0.6594 - precision_2: 0.7799 - specificity_at_sensitivity: 0.9798 - sensitivity_at_specificity: 0.9846\n",
            "Epoch 38/70\n",
            "lr:  0.0002\n",
            "156/156 [==============================] - 52s 331ms/step - loss: 0.9294 - acc: 0.6596 - precision_2: 0.7816 - specificity_at_sensitivity: 0.9800 - sensitivity_at_specificity: 0.9847\n",
            "Epoch 39/70\n",
            "lr:  0.0002\n",
            "156/156 [==============================] - 52s 330ms/step - loss: 0.9234 - acc: 0.6618 - precision_2: 0.7805 - specificity_at_sensitivity: 0.9810 - sensitivity_at_specificity: 0.9843\n",
            "Epoch 40/70\n",
            "lr:  0.0002\n",
            "156/156 [==============================] - 52s 330ms/step - loss: 0.9260 - acc: 0.6622 - precision_2: 0.7797 - specificity_at_sensitivity: 0.9802 - sensitivity_at_specificity: 0.9850\n",
            "Epoch 41/70\n",
            "lr:  0.0002\n",
            "156/156 [==============================] - 52s 329ms/step - loss: 0.9193 - acc: 0.6642 - precision_2: 0.7806 - specificity_at_sensitivity: 0.9807 - sensitivity_at_specificity: 0.9839\n",
            "Epoch 42/70\n",
            "lr:  0.0002\n",
            "156/156 [==============================] - 51s 328ms/step - loss: 0.9188 - acc: 0.6629 - precision_2: 0.7822 - specificity_at_sensitivity: 0.9813 - sensitivity_at_specificity: 0.9848\n",
            "Epoch 43/70\n",
            "lr:  0.0002\n",
            "156/156 [==============================] - 51s 327ms/step - loss: 0.9121 - acc: 0.6649 - precision_2: 0.7824 - specificity_at_sensitivity: 0.9817 - sensitivity_at_specificity: 0.9846\n",
            "Epoch 44/70\n",
            "lr:  0.0002\n",
            "156/156 [==============================] - 52s 331ms/step - loss: 0.9138 - acc: 0.6675 - precision_2: 0.7811 - specificity_at_sensitivity: 0.9814 - sensitivity_at_specificity: 0.9844\n",
            "Epoch 45/70\n",
            "lr:  0.0002\n",
            "156/156 [==============================] - 52s 330ms/step - loss: 0.9039 - acc: 0.6683 - precision_2: 0.7843 - specificity_at_sensitivity: 0.9819 - sensitivity_at_specificity: 0.9847\n",
            "Epoch 46/70\n",
            "lr:  0.0002\n",
            "156/156 [==============================] - 53s 335ms/step - loss: 0.9015 - acc: 0.6723 - precision_2: 0.7843 - specificity_at_sensitivity: 0.9824 - sensitivity_at_specificity: 0.9839\n",
            "Epoch 47/70\n",
            "lr:  0.0002\n",
            "156/156 [==============================] - 53s 335ms/step - loss: 0.8997 - acc: 0.6719 - precision_2: 0.7856 - specificity_at_sensitivity: 0.9820 - sensitivity_at_specificity: 0.9849\n",
            "Epoch 48/70\n",
            "lr:  0.0002\n",
            "156/156 [==============================] - 53s 335ms/step - loss: 0.8964 - acc: 0.6727 - precision_2: 0.7861 - specificity_at_sensitivity: 0.9828 - sensitivity_at_specificity: 0.9849\n",
            "Epoch 49/70\n",
            "lr:  0.0002\n",
            "156/156 [==============================] - 52s 330ms/step - loss: 0.8903 - acc: 0.6741 - precision_2: 0.7839 - specificity_at_sensitivity: 0.9828 - sensitivity_at_specificity: 0.9845\n",
            "Epoch 50/70\n",
            "lr:  0.0002\n",
            "156/156 [==============================] - 52s 332ms/step - loss: 0.8917 - acc: 0.6749 - precision_2: 0.7851 - specificity_at_sensitivity: 0.9830 - sensitivity_at_specificity: 0.9854\n",
            "Epoch 51/70\n",
            "lr:  0.0002\n",
            "156/156 [==============================] - 52s 329ms/step - loss: 0.8873 - acc: 0.6755 - precision_2: 0.7850 - specificity_at_sensitivity: 0.9828 - sensitivity_at_specificity: 0.9843\n",
            "Epoch 52/70\n",
            "lr:  0.0002\n",
            "156/156 [==============================] - 52s 331ms/step - loss: 0.8855 - acc: 0.6755 - precision_2: 0.7842 - specificity_at_sensitivity: 0.9828 - sensitivity_at_specificity: 0.9883\n",
            "Epoch 53/70\n",
            "lr:  0.0002\n",
            "156/156 [==============================] - 52s 330ms/step - loss: 0.8821 - acc: 0.6768 - precision_2: 0.7839 - specificity_at_sensitivity: 0.9832 - sensitivity_at_specificity: 0.9880\n",
            "Epoch 54/70\n",
            "lr:  0.0002\n",
            "156/156 [==============================] - 52s 330ms/step - loss: 0.8826 - acc: 0.6780 - precision_2: 0.7814 - specificity_at_sensitivity: 0.9828 - sensitivity_at_specificity: 0.9888\n",
            "Epoch 55/70\n",
            "lr:  0.0002\n",
            "156/156 [==============================] - 52s 329ms/step - loss: 0.8735 - acc: 0.6802 - precision_2: 0.7876 - specificity_at_sensitivity: 0.9837 - sensitivity_at_specificity: 0.9892\n",
            "Epoch 56/70\n",
            "lr:  0.0002\n",
            "156/156 [==============================] - 52s 332ms/step - loss: 0.8715 - acc: 0.6821 - precision_2: 0.7888 - specificity_at_sensitivity: 0.9841 - sensitivity_at_specificity: 0.9887\n",
            "Epoch 57/70\n",
            "lr:  2e-05\n",
            "156/156 [==============================] - 52s 329ms/step - loss: 0.8253 - acc: 0.7005 - precision_2: 0.7990 - specificity_at_sensitivity: 0.9872 - sensitivity_at_specificity: 0.9897\n",
            "Epoch 58/70\n",
            "lr:  2e-05\n",
            "156/156 [==============================] - 52s 328ms/step - loss: 0.8139 - acc: 0.7051 - precision_2: 0.7971 - specificity_at_sensitivity: 0.9873 - sensitivity_at_specificity: 0.9897\n",
            "Epoch 59/70\n",
            "lr:  2e-05\n",
            "156/156 [==============================] - 52s 330ms/step - loss: 0.8129 - acc: 0.7054 - precision_2: 0.7989 - specificity_at_sensitivity: 0.9875 - sensitivity_at_specificity: 0.9889\n",
            "Epoch 60/70\n",
            "lr:  2e-05\n",
            "156/156 [==============================] - 52s 331ms/step - loss: 0.8112 - acc: 0.7055 - precision_2: 0.7980 - specificity_at_sensitivity: 0.9876 - sensitivity_at_specificity: 0.9890\n",
            "Epoch 61/70\n",
            "lr:  2e-05\n",
            "156/156 [==============================] - 52s 331ms/step - loss: 0.8101 - acc: 0.7065 - precision_2: 0.7976 - specificity_at_sensitivity: 0.9879 - sensitivity_at_specificity: 0.9893\n",
            "Epoch 62/70\n",
            "lr:  2.0000000000000003e-06\n",
            "156/156 [==============================] - 52s 332ms/step - loss: 0.8070 - acc: 0.7059 - precision_2: 0.8023 - specificity_at_sensitivity: 0.9881 - sensitivity_at_specificity: 0.9895\n",
            "Epoch 63/70\n",
            "lr:  2.0000000000000003e-06\n",
            "156/156 [==============================] - 52s 331ms/step - loss: 0.8044 - acc: 0.7067 - precision_2: 0.8020 - specificity_at_sensitivity: 0.9877 - sensitivity_at_specificity: 0.9898\n",
            "Epoch 64/70\n",
            "lr:  2.0000000000000003e-06\n",
            "156/156 [==============================] - 52s 330ms/step - loss: 0.8049 - acc: 0.7070 - precision_2: 0.8016 - specificity_at_sensitivity: 0.9881 - sensitivity_at_specificity: 0.9890\n",
            "Epoch 65/70\n",
            "lr:  2.0000000000000003e-06\n",
            "156/156 [==============================] - 51s 328ms/step - loss: 0.8012 - acc: 0.7106 - precision_2: 0.8020 - specificity_at_sensitivity: 0.9881 - sensitivity_at_specificity: 0.9891\n",
            "Epoch 66/70\n",
            "lr:  2.0000000000000003e-06\n",
            "156/156 [==============================] - 52s 328ms/step - loss: 0.8023 - acc: 0.7095 - precision_2: 0.7997 - specificity_at_sensitivity: 0.9879 - sensitivity_at_specificity: 0.9893\n",
            "Epoch 67/70\n",
            "lr:  2.0000000000000003e-06\n",
            "156/156 [==============================] - 52s 329ms/step - loss: 0.8008 - acc: 0.7095 - precision_2: 0.8035 - specificity_at_sensitivity: 0.9886 - sensitivity_at_specificity: 0.9893\n",
            "Epoch 68/70\n",
            "lr:  2.0000000000000003e-06\n",
            "156/156 [==============================] - 52s 329ms/step - loss: 0.8051 - acc: 0.7080 - precision_2: 0.7992 - specificity_at_sensitivity: 0.9874 - sensitivity_at_specificity: 0.9894\n",
            "Epoch 69/70\n",
            "lr:  2.0000000000000003e-06\n",
            "156/156 [==============================] - 51s 327ms/step - loss: 0.8044 - acc: 0.7084 - precision_2: 0.7994 - specificity_at_sensitivity: 0.9879 - sensitivity_at_specificity: 0.9892\n",
            "Epoch 70/70\n",
            "lr:  2.0000000000000003e-06\n",
            "156/156 [==============================] - 52s 328ms/step - loss: 0.8003 - acc: 0.7083 - precision_2: 0.8000 - specificity_at_sensitivity: 0.9881 - sensitivity_at_specificity: 0.9894\n"
          ],
          "name": "stdout"
        }
      ]
    },
    {
      "cell_type": "markdown",
      "metadata": {
        "id": "Iz0Xhj4Y98xa"
      },
      "source": [
        "**EVALUATING THE MODEL**\n",
        "\n",
        "---\n",
        "\n"
      ]
    },
    {
      "cell_type": "code",
      "metadata": {
        "colab": {
          "base_uri": "https://localhost:8080/"
        },
        "id": "C7pDlOgw4x_D",
        "outputId": "cc9c75ef-b975-4722-86ce-1f2510e809d7"
      },
      "source": [
        "train_score = model.evaluate(X_train, y_train, verbose=0)\n",
        "train_parameters = ['Train accuracy:','Train Precision:','Train Specificity:','Train Sensitivity:']\n",
        "print(\"Train Loss:\",train_score[0])\n",
        "for i in range(1,5):\n",
        "  print(train_parameters[i-1],100*train_score[i])\n",
        "print('\\n')\n",
        " \n",
        "test_score = model.evaluate(X_test, y_test, verbose=0)\n",
        "test_parameters = ['Test accuracy:','Test Precision:','Test Specificity:','Test Sensitivity:']\n",
        "print(\"Test Loss:\",test_score[0])\n",
        "for i in range(1,5):\n",
        "  print(test_parameters[i-1],100*test_score[i])"
      ],
      "execution_count": null,
      "outputs": [
        {
          "output_type": "stream",
          "text": [
            "Train Loss: 0.7523325681686401\n",
            "Train accuracy: 72.59124517440796\n",
            "Train Precision: 81.59202337265015\n",
            "Train Specificity: 99.05558824539185\n",
            "Train Sensitivity: 99.46721196174622\n",
            "\n",
            "\n",
            "Test Loss: 0.9926071166992188\n",
            "Test accuracy: 64.47288393974304\n",
            "Test Precision: 73.88484477996826\n",
            "Test Specificity: 97.80113697052002\n",
            "Test Sensitivity: 97.43042588233948\n"
          ],
          "name": "stdout"
        }
      ]
    },
    {
      "cell_type": "markdown",
      "metadata": {
        "id": "o2ZGgf4z9zhp"
      },
      "source": [
        "**SAVING AND LOADING THE MODEL**\n",
        "\n",
        "---\n",
        "\n"
      ]
    },
    {
      "cell_type": "code",
      "metadata": {
        "id": "AtBMGRXImgkn"
      },
      "source": [
        "model.save(\"/content/drive/MyDrive/Innovation Practices/squeezenet.h5\") "
      ],
      "execution_count": null,
      "outputs": []
    },
    {
      "cell_type": "code",
      "metadata": {
        "id": "j7rCAUaBgTh3",
        "colab": {
          "base_uri": "https://localhost:8080/"
        },
        "outputId": "d638d46a-d626-4a07-c317-38714b2f92ac"
      },
      "source": [
        "from keras.models import load_model \n",
        "model = load_model(\"/content/drive/MyDrive/Innovation Practices/squeezenet.h5\") \n",
        "\n",
        "train_score = model.evaluate(X_train, y_train, verbose=0)\n",
        "train_parameters = ['Train accuracy:','Train Precision:','Train Specificity:','Train Sensitivity:']\n",
        "print(\"Train Loss:\",train_score[0])\n",
        "for i in range(1,5):\n",
        "  print(train_parameters[i-1],100*train_score[i])\n",
        "print('\\n')\n",
        " \n",
        "test_score = model.evaluate(X_test, y_test, verbose=0)\n",
        "test_parameters = ['Test accuracy:','Test Precision:','Test Specificity:','Test Sensitivity:']\n",
        "print(\"Test Loss:\",test_score[0])\n",
        "for i in range(1,5):\n",
        "  print(test_parameters[i-1],100*test_score[i])"
      ],
      "execution_count": null,
      "outputs": [
        {
          "output_type": "stream",
          "text": [
            "Train Loss: 0.7523325681686401\n",
            "Train accuracy: 72.59124517440796\n",
            "Train Precision: 81.59202337265015\n",
            "Train Specificity: 99.05558824539185\n",
            "Train Sensitivity: 99.46721196174622\n",
            "\n",
            "\n",
            "Test Loss: 0.9926072359085083\n",
            "Test accuracy: 64.47288393974304\n",
            "Test Precision: 73.88484477996826\n",
            "Test Specificity: 97.80113697052002\n",
            "Test Sensitivity: 97.43042588233948\n"
          ],
          "name": "stdout"
        }
      ]
    },
    {
      "cell_type": "markdown",
      "metadata": {
        "id": "LbzUPYTIt-Z-"
      },
      "source": [
        "**CLASSIFICATION REPORT**\n",
        "\n",
        "---\n",
        "\n"
      ]
    },
    {
      "cell_type": "code",
      "metadata": {
        "colab": {
          "base_uri": "https://localhost:8080/"
        },
        "id": "m8CF_VAzOY1B",
        "outputId": "5203eb9f-b2e3-471d-831e-cb7e916362cf"
      },
      "source": [
        "X_test_flattened = [np.argmax(i) for i in y_test]\n",
        "X_test_flattened = np.array(X_test_flattened)\n",
        "\n",
        "from sklearn.metrics import confusion_matrix, classification_report\n",
        "import seaborn as sns\n",
        "\n",
        "def classification(predictions): \n",
        "    nb_class_types = ['angry', 'disgust', 'fear', 'happy', 'sad', 'surprise', 'neutral']\n",
        "    print(\"Classification Report:\\n\")\n",
        "    cr=classification_report(X_test_flattened, np.argmax(np.round(predictions), axis=1), target_names=[nb_class_types[i] for i in range(len(nb_class_types))])\n",
        "    print(cr)\n",
        "    \n",
        "squeezenet_pred = model.predict(X_test)\n",
        "classification(squeezenet_pred)"
      ],
      "execution_count": null,
      "outputs": [
        {
          "output_type": "stream",
          "text": [
            "Classification Report:\n",
            "\n",
            "              precision    recall  f1-score   support\n",
            "\n",
            "       angry       0.23      0.70      0.35       996\n",
            "     disgust       0.74      0.22      0.34       116\n",
            "        fear       0.53      0.20      0.29      1029\n",
            "       happy       0.86      0.82      0.84      3004\n",
            "         sad       0.53      0.26      0.35      1274\n",
            "    surprise       0.80      0.64      0.71       912\n",
            "     neutral       0.71      0.64      0.67      2515\n",
            "\n",
            "    accuracy                           0.60      9846\n",
            "   macro avg       0.63      0.50      0.51      9846\n",
            "weighted avg       0.67      0.60      0.61      9846\n",
            "\n"
          ],
          "name": "stdout"
        }
      ]
    },
    {
      "cell_type": "markdown",
      "metadata": {
        "id": "5kfQTBtDuCwR"
      },
      "source": [
        "**CONFUSION MATRIX**\n",
        "\n",
        "---\n",
        "\n"
      ]
    },
    {
      "cell_type": "code",
      "metadata": {
        "colab": {
          "base_uri": "https://localhost:8080/",
          "height": 459
        },
        "id": "5KiWaPsqPITl",
        "outputId": "c5742263-da32-41ee-aaa0-8f75209a0311"
      },
      "source": [
        "nb_class_types = ['angry', 'disgust', 'fear', 'happy', 'sad', 'surprise', 'neutral']\n",
        "X_predicted = model.predict(X_test)\n",
        "y_predicted = [np.argmax(i) for i in X_predicted]\n",
        "cm = tf.math.confusion_matrix(labels=X_test_flattened,predictions=y_predicted)\n",
        "\n",
        "plt.figure(figsize = (10,7))\n",
        "sns_hmp = sns.heatmap(cm, annot=True, xticklabels = [nb_class_types[i] for i in range(len(nb_class_types))], yticklabels = [nb_class_types[i] for i in range(len(nb_class_types))], fmt='d')\n",
        "plt.xlabel('Predicted')\n",
        "plt.ylabel('Expected')"
      ],
      "execution_count": null,
      "outputs": [
        {
          "output_type": "execute_result",
          "data": {
            "text/plain": [
              "Text(69.0, 0.5, 'Expected')"
            ]
          },
          "metadata": {
            "tags": []
          },
          "execution_count": 10
        },
        {
          "output_type": "display_data",
          "data": {
            "image/png": "[encoded data removed]",
            "text/plain": [
              "<Figure size 720x504 with 2 Axes>"
            ]
          },
          "metadata": {
            "tags": [],
            "needs_background": "light"
          }
        }
      ]
    },
    {
      "cell_type": "markdown",
      "metadata": {
        "id": "GdyB6RAD-vKL"
      },
      "source": [
        "**TESTING AN IMAGE**\n",
        "\n",
        "---\n",
        "\n"
      ]
    },
    {
      "cell_type": "code",
      "metadata": {
        "id": "p3Zc4qMp46lN"
      },
      "source": [
        "def emotion_analysis(emotions):\n",
        "    objects = ('angry', 'disgust', 'fear', 'happy', 'sad', 'surprise', 'neutral')\n",
        "    y_pos = np.arange(len(objects))\n",
        "    \n",
        "    plt.bar(y_pos, emotions, align='center', alpha=0.5)\n",
        "    plt.xticks(y_pos, objects)\n",
        "    plt.ylabel('percentage')\n",
        "    plt.title('emotion')\n",
        "    \n",
        "    plt.show()"
      ],
      "execution_count": null,
      "outputs": []
    },
    {
      "cell_type": "code",
      "metadata": {
        "colab": {
          "base_uri": "https://localhost:8080/",
          "height": 583
        },
        "id": "Ake6UXksXGtF",
        "outputId": "509439b6-7c8f-47c2-bdf3-cc7d059ab1a7"
      },
      "source": [
        "import cv2\n",
        "import math\n",
        "from keras.preprocessing import image\n",
        "from keras.preprocessing.image import ImageDataGenerator\n",
        "\n",
        "\n",
        "d = {0:\"angry\",1:\"disgust\",2:\"fear\",3:\"happiness\",4:\"sad\",5:\"surprise\",6:\"neutral\"}\n",
        "face_cascade = cv2.CascadeClassifier('/content/drive/MyDrive/Innovation Practices/haarcascade_frontalface_alt.xml')\n",
        "\n",
        "\n",
        "file = '/content/drive/MyDrive/Innovation Practices/happy_down.jpg'\n",
        "true_image = image.load_img(file)\n",
        "img = cv2.imread(file)\n",
        "\n",
        "gray = cv2.cvtColor(img,cv2.COLOR_BGR2GRAY)\n",
        "faces = face_cascade.detectMultiScale(gray,1.1,4)\n",
        "\n",
        "if(len(faces) == 0):\n",
        "    exit()\n",
        "\n",
        "for (x,y,w,h) in faces:\n",
        "    cv2.rectangle(gray,(x,y),(x+w,y+h),(255,0,0),2)\n",
        "    start_row,end_row,start_col,end_col = y,y+h,x,x+h\n",
        "\n",
        "croppedimage = gray[start_row:end_row,start_col:end_col]\n",
        "img = cv2.resize(croppedimage,(48,48))\n",
        "\n",
        "x = image.img_to_array(img)\n",
        "x = np.expand_dims(x, axis = 0)\n",
        "\n",
        "x /= 255\n",
        "\n",
        "x = np.array(x, 'float32')\n",
        "x = x.reshape(1, 1, 48, 48);\n",
        "\n",
        "custom = model.predict(x)\n",
        "emotion_analysis(custom[0])\n",
        "print(custom[0])\n",
        "\n",
        "emt = list(custom[0])\n",
        "idx = emt.index(max(emt))\n",
        "imgname = d[idx]\n",
        "print(imgname)\n",
        "\n",
        "plt.gray()\n",
        "plt.imshow(true_image)\n",
        "plt.show()"
      ],
      "execution_count": null,
      "outputs": [
        {
          "output_type": "display_data",
          "data": {
            "image/png": "[encoded data removed]",
            "text/plain": [
              "<Figure size 432x288 with 1 Axes>"
            ]
          },
          "metadata": {
            "tags": [],
            "needs_background": "light"
          }
        },
        {
          "output_type": "stream",
          "text": [
            "[1.0059604e-03 5.4380151e-05 5.6969039e-03 9.7436380e-01 7.8054471e-04\n",
            " 1.6026333e-02 2.0720707e-03]\n",
            "happiness\n"
          ],
          "name": "stdout"
        },
        {
          "output_type": "display_data",
          "data": {
            "image/png": "[encoded data removed]",
            "text/plain": [
              "<Figure size 432x288 with 1 Axes>"
            ]
          },
          "metadata": {
            "tags": [],
            "needs_background": "light"
          }
        }
      ]
    },
    {
      "cell_type": "markdown",
      "metadata": {
        "id": "7qTu17v4_lAh"
      },
      "source": [
        "**TESTING A VIDEO**\n",
        "\n",
        "---\n",
        "\n"
      ]
    },
    {
      "cell_type": "code",
      "metadata": {
        "colab": {
          "base_uri": "https://localhost:8080/"
        },
        "id": "4pucmbenNZHr",
        "outputId": "afdc3260-1270-4108-a239-a88972453724"
      },
      "source": [
        "import math\n",
        "from keras.preprocessing import image\n",
        "\n",
        "videoFile = \"/content/drive/MyDrive/Innovation Practices/v5.mp4\"\n",
        "vidcap = cv2.VideoCapture(videoFile)\n",
        "\n",
        "def getFrame(seconds):\n",
        "    vidcap.set(cv2.CAP_PROP_POS_MSEC,seconds*1000)\n",
        "    hasFrames,img = vidcap.read()\n",
        "    \n",
        "    if hasFrames:\n",
        "        minutes = \"00\"\n",
        "        hours = \"00\"\n",
        "        if seconds >= 60:\n",
        "            minutes = str(seconds//60)\n",
        "            seconds = seconds % 60\n",
        "\n",
        "        if int(minutes) >= 60:\n",
        "            hours = str(int(minutes)//60)\n",
        "            minutes = str(int(minutes) % 60)\n",
        "\n",
        "        min = \"{:02d}\".format(int(minutes))\n",
        "        sec = \"{:02d}\".format(seconds)\n",
        "        hrs = \"{:02d}\".format(int(hours))\n",
        "\n",
        "        flag = 0 \n",
        "        gray = cv2.cvtColor(img,cv2.COLOR_BGR2GRAY)\n",
        "        faces = face_cascade.detectMultiScale(gray,1.1,4)\n",
        "        \n",
        "        if(len(faces)==0):\n",
        "            flag = 1\n",
        "        \n",
        "        if flag == 0 :\n",
        "\n",
        "            global count\n",
        "            count+=1\n",
        "\n",
        "            for (x,y,w,h) in faces:\n",
        "                cv2.rectangle(gray,(x,y),(x+w,y+h),(255,0,0),2)\n",
        "                start_row,end_row,start_col,end_col = y,y+h,x,x+h  \n",
        "            \n",
        "            croppedimage = gray[start_row:end_row,start_col:end_col]\n",
        "            finalimg = cv2.resize(croppedimage,(48,48))\n",
        "\n",
        "            x = image.img_to_array(finalimg)\n",
        "            x = np.expand_dims(x, axis = 0)\n",
        "\n",
        "            x /= 255\n",
        "            x = np.array(x, 'float32')\n",
        "            x = x.reshape(1, 1, 48, 48); \n",
        "\n",
        "            custom = model.predict(x)\n",
        "            emt = list(custom[0])\n",
        "            idx = emt.index(max(emt))\n",
        "            imgname = d[idx]\n",
        "            dcount[imgname] = dcount[imgname] + 1;\n",
        "            \n",
        "            cv2.imwrite(\"/content/drive/MyDrive/Innovation Practices/Detected/\" + \"%d_\" % count + imgname +\"__\"+ hrs+\":\"+min+\":\"+sec+\".jpg\" ,img)  \n",
        "\n",
        "    return hasFrames\n",
        "\n",
        "d = {0:\"angry\",1:\"disgust\",2:\"fear\",3:\"happiness\",4:\"sad\",5:\"surprise\",6:\"neutral\"}\n",
        "dcount = {\"angry\":0,\"disgust\":0,\"fear\":0,\"happiness\":0,\"sad\":0,\"surprise\":0,\"neutral\":0}\n",
        "\n",
        "face_cascade = cv2.CascadeClassifier('/content/drive/MyDrive/Innovation Practices/haarcascade_frontalface_alt.xml')\n",
        "\n",
        "sec = 0\n",
        "frameRate = 2 #it will capture image in each 2 second\n",
        "count=0\n",
        "success = getFrame(sec)\n",
        "\n",
        "while success:\n",
        "    sec = sec + frameRate\n",
        "    sec = round(sec, 2)\n",
        "    success = getFrame(sec)\n",
        "\n",
        "print(\"Done\")\n",
        "print(\"Extracted images:\",count)\n",
        "for i in dcount:\n",
        "  print(i,end=\" \")\n",
        "  print(dcount[i])"
      ],
      "execution_count": null,
      "outputs": [
        {
          "output_type": "stream",
          "text": [
            "Done\n",
            "Extracted images: 150\n",
            "{'angry': 18, 'disgust': 0, 'fear': 12, 'happiness': 74, 'sad': 13, 'surprise': 17, 'neutral': 16}\n"
          ],
          "name": "stdout"
        }
      ]
    },
    {
      "cell_type": "code",
      "metadata": {
        "colab": {
          "base_uri": "https://localhost:8080/"
        },
        "id": "1FLfzPNmwXGp",
        "outputId": "f1c39b13-5e9a-4b23-ea13-54de69fcbb22"
      },
      "source": [
        "dcount = {'angry' : 18, 'disgust':0, 'fear':12, 'happiness':74, 'sad':13, 'surprise':17, 'neutral': 16}\n",
        "print(\"Number of times a particular emotion is shown\")\n",
        "for i in dcount:\n",
        "  print(i,end=\"-\")\n",
        "  print(dcount[i])"
      ],
      "execution_count": null,
      "outputs": [
        {
          "output_type": "stream",
          "text": [
            "Number of times a particular emotion is shown\n",
            "angry-18\n",
            "disgust-0\n",
            "fear-12\n",
            "happiness-74\n",
            "sad-13\n",
            "surprise-17\n",
            "neutral-16\n"
          ],
          "name": "stdout"
        }
      ]
    },
    {
      "cell_type": "markdown",
      "metadata": {
        "id": "rzHYrJ2TKWM9"
      },
      "source": [
        "**PLOTTING BAR CHART OF DETECTED EMOTIONS**\n",
        "\n",
        "---\n",
        "\n",
        "\n"
      ]
    },
    {
      "cell_type": "code",
      "metadata": {
        "colab": {
          "base_uri": "https://localhost:8080/",
          "height": 295
        },
        "id": "WEv9TCvLAT0s",
        "outputId": "bab79bec-39f1-4a0e-fea4-f2e631940342"
      },
      "source": [
        "emotions = list(dcount.keys())\n",
        "values = list(dcount.values())\n",
        "\n",
        "fig, ax = plt.subplots() \n",
        "width = 0.8\n",
        "ind = np.arange(len(values)) \n",
        "\n",
        "plt.bar(emotions, values, width, color ='blue') \n",
        "        \n",
        "for index, value in enumerate(values): \n",
        "    ax.text(index - 0.1, value + 1.5, str(value)) \n",
        "  \n",
        "plt.xlabel(\"Emotions\")\n",
        "plt.ylabel(\"no of times exhibited\")\n",
        "plt.title(\"Emotional analysis\")\n",
        "plt.savefig('/content/drive/MyDrive/Innovation Practices/frequency.png', dpi=300, bbox_inches='tight')\n",
        "\n",
        "plt.show()"
      ],
      "execution_count": null,
      "outputs": [
        {
          "output_type": "display_data",
          "data": {
            "image/png": "[encoded data removed]",
            "text/plain": [
              "<Figure size 432x288 with 1 Axes>"
            ]
          },
          "metadata": {
            "tags": [],
            "needs_background": "light"
          }
        }
      ]
    },
    {
      "cell_type": "markdown",
      "metadata": {
        "id": "IdXyXovQvZt-"
      },
      "source": [
        "**REPORT GENERATION**"
      ]
    },
    {
      "cell_type": "code",
      "metadata": {
        "id": "uciMUAAef3zZ"
      },
      "source": [
        "from docx import Document\n",
        "from docx.shared import Inches\n",
        "from docx.shared import RGBColor\n",
        "from docx.shared import Pt\n",
        "from docx.enum.text import WD_ALIGN_PARAGRAPH\n",
        "\n",
        "document = Document()\n",
        "p1 = document.add_paragraph()\n",
        "paragraph_format = p1.paragraph_format\n",
        "paragraph_format.alignment = WD_ALIGN_PARAGRAPH.CENTER\n",
        "p12 = p1.add_run(\"REPORT ON EMOTIONS PREDICTED\")\n",
        "f1 = p12.font\n",
        "f1.size = Pt(16)\n",
        "f1.underline = True\n",
        "f1.bold = True\n",
        "\n",
        "paragraph_format.line_spacing = 1.75\n",
        "\n",
        "p2 = document.add_paragraph()\n",
        "p22 = p2.add_run(\"Name of the video:\")\n",
        "f2 = p22.font\n",
        "f2.name = 'Calibri'\n",
        "f2.size = Pt(14)\n",
        "f2.bold = True\n",
        "p2.add_run(\" video.mp4\").font.size = Pt(13)\n",
        "\n",
        "\n",
        "p3 = document.add_paragraph()\n",
        "p32 = p3.add_run(\"Frames extracted link:\")\n",
        "f3 = p32.font\n",
        "f3.name = 'Calibri'\n",
        "f3.size = Pt(14)\n",
        "f3.bold = True\n",
        "document.add_paragraph('https://drive.google.com/drive/folders/1bbs1-qNfPEioGkDcFJlAN1XcipiVnYYL?usp=sharing')\n",
        "document.add_paragraph(\"(Frames are extracted every 2 seconds)\")\n",
        "\n",
        "p4 = document.add_paragraph()\n",
        "p42 = p4.add_run(\"Types of emotions predicted\")\n",
        "f4 = p42.font\n",
        "f4.name = 'Calibri'\n",
        "f4.size = Pt(14)\n",
        "f4.bold = True\n",
        "document.add_paragraph('Angry', style='List Bullet')\n",
        "document.add_paragraph('Disgust', style='List Bullet')\n",
        "document.add_paragraph('Fear', style='List Bullet')\n",
        "document.add_paragraph('Happy', style='List Bullet')\n",
        "document.add_paragraph('Sad', style='List Bullet')\n",
        "document.add_paragraph('Surprise', style='List Bullet')\n",
        "document.add_paragraph('Neutral', style='List Bullet')\n",
        "\n",
        "p5 = document.add_paragraph()\n",
        "p52 = p5.add_run(\"DETAILED ANALYSIS\")\n",
        "f5 = p52.font\n",
        "f5.size = Pt(14)\n",
        "f5.underline = True\n",
        "f5.bold = True\n",
        "\n",
        "p = document.add_paragraph()\n",
        "p.add_run('Frequency graph:').bold = True\n",
        "p.add_run(\" No of times the person exhibited a particular emotion\")\n",
        "\n",
        "document.add_picture('/content/drive/MyDrive/Innovation Practices/frequency.png', width=Inches(5.25))\n",
        "document.save('/content/drive/MyDrive/Innovation Practices/emotion_report.docx')"
      ],
      "execution_count": null,
      "outputs": []
    },
    {
      "cell_type": "code",
      "metadata": {
        "id": "2jWKVbY8hvyJ"
      },
      "source": [
        ""
      ],
      "execution_count": null,
      "outputs": []
    }
  ]
}